{
 "cells": [
  {
   "cell_type": "code",
   "execution_count": 1,
   "id": "34d46d86",
   "metadata": {},
   "outputs": [],
   "source": [
    "#imports\n",
    "import pandas as pd\n",
    "import numpy as np\n",
    "import seaborn as sns\n",
    "import matplotlib.pyplot as plt\n",
    "\n",
    "from sklearn.linear_model import LinearRegression\n",
    "from sklearn.linear_model import LogisticRegression\n",
    "from sklearn.model_selection import train_test_split, cross_val_score\n",
    "from sklearn.metrics import r2_score\n",
    "import sklearn.metrics as metrics"
   ]
  },
  {
   "cell_type": "markdown",
   "id": "d6a8ac26",
   "metadata": {},
   "source": [
    "## The Human Gene module of SFARI Gene serves as a comprehensive, up-to-date reference for all known human genes associated with autism spectrum disorders (ASD).\n",
    "\n",
    "The Human Gene module is the central component of SFARI Gene. The other modules of SFARI Gene (Animal Model, Gene Scoring, and Copy Number Variant (CNV)) are seamlessly integrated into the Human Gene module via a single search engine. The first Human Gene module was released in January of 2007, and in 2009 it was featured in the journal Nucleic Acids Research. There are currently ~800 genes in the Human Gene module that have potential links to ASD. These genes fall into four genetic categories: Rare, Syndromic, Association and Functional.\n",
    "\n",
    "## Genetic Categories\n",
    "\n",
    "1. Rare\n",
    "\n",
    "Rare single gene variants, disruptions/mutations, and submicroscopic deletions/duplications directly linked to ASD\n",
    "\n",
    "2. Syndromic\n",
    "\n",
    "Genes implicated in syndromes in which a significant subpopulation develops symptoms of autism (examples: Angelman Syndrome, Fragile X Syndrome)\n",
    "\n",
    "3. Association\n",
    "\n",
    "Small risk-conferring common polymorphisms identified from genetic association studies in idiopathic ASD\n",
    "\n",
    "4. Functional\n",
    "\n",
    "Functional candidates not yet genetically linked with ASD"
   ]
  },
  {
   "cell_type": "code",
   "execution_count": 2,
   "id": "747b1da3",
   "metadata": {},
   "outputs": [],
   "source": [
    "#upload data\n",
    "genes = pd.read_csv('./sfari_genes.csv')"
   ]
  },
  {
   "cell_type": "markdown",
   "id": "2c1ce335",
   "metadata": {},
   "source": [
    "## The current version of the Copy Number Variant (CNV) module of SFARI Gene focuses on curation of recurrent CNVs associated with ASD.\n",
    "\n",
    "CNVs are segments of DNA, typically greater than 1,000 basepairs in length, that vary in number from person to person. These submicroscopic deletions and duplications are increasingly thought to be involved in the pathogenesis of a wide range of human diseases, including neuropsychiatric disorders such as ASD."
   ]
  },
  {
   "cell_type": "code",
   "execution_count": 3,
   "id": "fa5f5d58",
   "metadata": {},
   "outputs": [],
   "source": [
    "#upload data\n",
    "gene_cnvs = pd.read_csv('./sfari_gene_cnvs.csv')"
   ]
  },
  {
   "cell_type": "markdown",
   "id": "df6753fd",
   "metadata": {},
   "source": [
    "## Our gene scoring system takes into account all available evidence supporting a gene's relevance to ASD risk and places each gene into a category reflecting the overall strength of that evidence.\n",
    "\n",
    "SFARI Gene is a comprehensive database that includes any gene associated with autism risk, regardless of the nature of the evidence supporting its link to ASD. Given this approach and the potentially large number of false-positives it invites, we recognize the importance of establishing a ranking system that gives users an estimate of the strength of the evidence in favor of each gene. In collaboration with our curators at MindSpec and a team of expert autism geneticists, we've established a set of criteria that allows us to rank genes into one of four categories, enabling users to easily identify the genes whose association with autism risk is most likely to hold up over time."
   ]
  },
  {
   "cell_type": "code",
   "execution_count": 4,
   "id": "94bd5b09",
   "metadata": {},
   "outputs": [],
   "source": [
    "#upload data\n",
    "gene_scores = pd.read_csv('./sfari_gene_scoring.csv')"
   ]
  },
  {
   "cell_type": "markdown",
   "id": "7234341c",
   "metadata": {},
   "source": [
    "## The Mouse Models module of SFARI Gene examines data from mouse models used in laboratory research to elucidate the underlying causes of ASD.\n",
    "\n",
    "Through rigorous curation of primary scientific research, the Mouse Models module provides integrated coverage of the latest discoveries at the molecular, cellular, and behavioral levels in ASD.\n",
    "\n",
    "The data gleaned from genetic and induced mouse models can be used to better our understanding of the basic mechanisms of autism and help improve treatments for ASD. We envision that our work will also provide a platform for data mining, bioinformatics, and computational strategies that can be used to develop robust predictive models of these disorders."
   ]
  },
  {
   "cell_type": "markdown",
   "id": "2ffa2ceb",
   "metadata": {},
   "source": [
    "## The Mouse Models module of SFARI Gene utilizes a unique classification system in order to more effectively navigate the intricacies of the mouse models.\n",
    "\n",
    "For the genetic models, each reported model is assigned a name that consists of the gene name, chronologically ordered model number, the model construct (allele type, such as Knock Out, Knock In, etc.), and the genotype (Homozygous, Heterozygous, or Hemizygous). We also classify publications that report the first model of a gene as ``primary,`` with every subsequent publication recorded as ``additional.``\n",
    "\n",
    "Nomenclature Sample:\n",
    "\n",
    "Genetic Models:\n",
    "Gene Name_ Model#_Construct_Genotype Example: NLGN3_ 1_ KO_ HM\n",
    "\n",
    "Induced Models:\n",
    "Inducer Abbreviation _Model#_ Model Type _ Model Subtype Example: VPA_ 1_IN_ C"
   ]
  },
  {
   "cell_type": "code",
   "execution_count": 5,
   "id": "2cc45d55",
   "metadata": {},
   "outputs": [],
   "source": [
    "#upload data\n",
    "mouse_genes = pd.read_csv('./sfari_mouse_genes.csv')"
   ]
  },
  {
   "cell_type": "code",
   "execution_count": 6,
   "id": "28f94f4d",
   "metadata": {},
   "outputs": [],
   "source": [
    "#upload data\n",
    "mouse_gene_cnvs = pd.read_csv('./sfari_mouse_gene_cnvs.csv')"
   ]
  },
  {
   "cell_type": "code",
   "execution_count": 7,
   "id": "f632de90",
   "metadata": {},
   "outputs": [],
   "source": [
    "#upload data\n",
    "mouse_inbred = pd.read_csv('./sfari_mouse_inbred.csv')"
   ]
  },
  {
   "cell_type": "code",
   "execution_count": 8,
   "id": "dd447007",
   "metadata": {},
   "outputs": [],
   "source": [
    "#upload data\n",
    "mouse_induced = pd.read_csv('./sfari_mouse_induced.csv')"
   ]
  },
  {
   "cell_type": "code",
   "execution_count": 9,
   "id": "b0fd56d1",
   "metadata": {},
   "outputs": [],
   "source": [
    "#upload data\n",
    "mouse_rescue = pd.read_csv('./sfari_mouse_rescue.csv')"
   ]
  }
 ],
 "metadata": {
  "kernelspec": {
   "display_name": "Python 3 (ipykernel)",
   "language": "python",
   "name": "python3"
  },
  "language_info": {
   "codemirror_mode": {
    "name": "ipython",
    "version": 3
   },
   "file_extension": ".py",
   "mimetype": "text/x-python",
   "name": "python",
   "nbconvert_exporter": "python",
   "pygments_lexer": "ipython3",
   "version": "3.9.7"
  }
 },
 "nbformat": 4,
 "nbformat_minor": 5
}
