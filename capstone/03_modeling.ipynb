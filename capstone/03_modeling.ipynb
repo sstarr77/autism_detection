{
 "cells": [
  {
   "cell_type": "markdown",
   "id": "f75cd661",
   "metadata": {},
   "source": [
    "# Can I use a model that predicts the presence of ASD upon the inspection of genes?"
   ]
  },
  {
   "cell_type": "code",
   "execution_count": 1,
   "id": "ee44d394",
   "metadata": {},
   "outputs": [],
   "source": [
    "import pandas as pd\n",
    "import numpy as np\n",
    "import seaborn as sns\n",
    "import matplotlib.pyplot as plt\n",
    "import os, sys\n",
    "from sklearn.preprocessing import MinMaxScaler\n",
    "from xgboost import XGBClassifier\n",
    "from sklearn.model_selection import train_test_split\n",
    "from sklearn.metrics import accuracy_score"
   ]
  },
  {
   "cell_type": "code",
   "execution_count": 2,
   "id": "29ee102d",
   "metadata": {},
   "outputs": [],
   "source": [
    "genes = pd.read_csv('./sfari_genes.csv')"
   ]
  },
  {
   "cell_type": "markdown",
   "id": "cbb01e7b",
   "metadata": {},
   "source": [
    "## The status column is useless and so we can drop it!"
   ]
  },
  {
   "cell_type": "code",
   "execution_count": 3,
   "id": "bb1527f3",
   "metadata": {},
   "outputs": [],
   "source": [
    "genes = genes.drop(columns = 'status')"
   ]
  },
  {
   "cell_type": "markdown",
   "id": "709361dd",
   "metadata": {},
   "source": [
    "## Because the gene symbol is unique across all 1031 columns, we are going to drop gene-symbol and number of reports as well because it will not help us in this case."
   ]
  },
  {
   "cell_type": "code",
   "execution_count": 4,
   "id": "5d62a6a7",
   "metadata": {},
   "outputs": [],
   "source": [
    "genes = genes.drop(columns = 'gene-symbol')"
   ]
  },
  {
   "cell_type": "code",
   "execution_count": 5,
   "id": "b3935839",
   "metadata": {},
   "outputs": [],
   "source": [
    "genes = genes.drop(columns = 'number-of-reports')"
   ]
  },
  {
   "cell_type": "markdown",
   "id": "5cbcff4c",
   "metadata": {},
   "source": [
    "## Same with gene name and ensembl id"
   ]
  },
  {
   "cell_type": "code",
   "execution_count": 6,
   "id": "f1928904",
   "metadata": {},
   "outputs": [],
   "source": [
    "genes = genes.drop(columns = 'gene-name')"
   ]
  },
  {
   "cell_type": "code",
   "execution_count": 7,
   "id": "d586f2f3",
   "metadata": {},
   "outputs": [],
   "source": [
    "genes = genes.drop(columns = 'ensembl-id')"
   ]
  },
  {
   "cell_type": "markdown",
   "id": "f5d5b155",
   "metadata": {},
   "source": [
    "## Dropping 2 rows where the genetic category is null because it is crucial to analysis"
   ]
  },
  {
   "cell_type": "code",
   "execution_count": 8,
   "id": "facf76cd",
   "metadata": {},
   "outputs": [],
   "source": [
    "genes.dropna(inplace = True)"
   ]
  },
  {
   "cell_type": "markdown",
   "id": "ac9f4405",
   "metadata": {},
   "source": [
    "## Dummying the columns"
   ]
  },
  {
   "cell_type": "code",
   "execution_count": 9,
   "id": "da40733c",
   "metadata": {},
   "outputs": [],
   "source": [
    "genes = pd.get_dummies(data=genes, columns=['chromosome', 'genetic-category','gene-score'])\n"
   ]
  },
  {
   "cell_type": "markdown",
   "id": "dc855133",
   "metadata": {},
   "source": [
    "## Getting the features and labels. \n",
    "## The features are all of those except the syndromic column.\n",
    "## The labels are those in the syndromic column."
   ]
  },
  {
   "cell_type": "code",
   "execution_count": 10,
   "id": "fbe24cb2",
   "metadata": {},
   "outputs": [],
   "source": [
    "features=genes.drop(columns = 'syndromic')\n",
    "labels=genes.loc[:,'syndromic'].values"
   ]
  },
  {
   "cell_type": "markdown",
   "id": "ebd20a69",
   "metadata": {},
   "source": [
    "## Getting the count of our labels, there are 792 0's, and 239 1's."
   ]
  },
  {
   "cell_type": "code",
   "execution_count": 11,
   "id": "bfa5fba1",
   "metadata": {},
   "outputs": [
    {
     "data": {
      "text/plain": [
       "0    790\n",
       "1    239\n",
       "Name: syndromic, dtype: int64"
      ]
     },
     "execution_count": 11,
     "metadata": {},
     "output_type": "execute_result"
    }
   ],
   "source": [
    "genes['syndromic'].value_counts()"
   ]
  },
  {
   "cell_type": "markdown",
   "id": "bc756edd",
   "metadata": {},
   "source": [
    "## Creating our X and y variables."
   ]
  },
  {
   "cell_type": "code",
   "execution_count": 12,
   "id": "0ad74a20",
   "metadata": {},
   "outputs": [],
   "source": [
    "scaler=MinMaxScaler((-1,1))\n",
    "X=scaler.fit_transform(features)\n",
    "y=labels"
   ]
  },
  {
   "cell_type": "markdown",
   "id": "c64015f5",
   "metadata": {},
   "source": [
    "## Model Baseline"
   ]
  },
  {
   "cell_type": "code",
   "execution_count": 13,
   "id": "9a501b92",
   "metadata": {},
   "outputs": [
    {
     "data": {
      "text/plain": [
       "0.23226433430515064"
      ]
     },
     "execution_count": 13,
     "metadata": {},
     "output_type": "execute_result"
    }
   ],
   "source": [
    "y.mean()"
   ]
  },
  {
   "cell_type": "markdown",
   "id": "2bd10138",
   "metadata": {},
   "source": [
    "## Train test split"
   ]
  },
  {
   "cell_type": "code",
   "execution_count": 14,
   "id": "49393ad3",
   "metadata": {},
   "outputs": [],
   "source": [
    "X_train,X_test,y_train,y_test=train_test_split(X, y, test_size=0.2, random_state=42)"
   ]
  },
  {
   "cell_type": "code",
   "execution_count": 15,
   "id": "9837d895",
   "metadata": {},
   "outputs": [
    {
     "name": "stdout",
     "output_type": "stream",
     "text": [
      "[15:54:00] WARNING: /Users/runner/miniforge3/conda-bld/xgboost-split_1645117948562/work/src/learner.cc:1115: Starting in XGBoost 1.3.0, the default evaluation metric used with the objective 'binary:logistic' was changed from 'error' to 'logloss'. Explicitly set eval_metric if you'd like to restore the old behavior.\n"
     ]
    },
    {
     "name": "stderr",
     "output_type": "stream",
     "text": [
      "/Users/breezehomefolder/opt/anaconda3/lib/python3.9/site-packages/xgboost/sklearn.py:1224: UserWarning: The use of label encoder in XGBClassifier is deprecated and will be removed in a future release. To remove this warning, do the following: 1) Pass option use_label_encoder=False when constructing XGBClassifier object; and 2) Encode your labels (y) as integers starting with 0, i.e. 0, 1, 2, ..., [num_class - 1].\n",
      "  warnings.warn(label_encoder_deprecation_msg, UserWarning)\n"
     ]
    }
   ],
   "source": [
    "model=XGBClassifier()\n",
    "model.fit(X_train,y_train)\n",
    "use_label_encoder = False "
   ]
  },
  {
   "cell_type": "markdown",
   "id": "e93d7392",
   "metadata": {},
   "source": [
    "## Calculating accuracy for the model"
   ]
  },
  {
   "cell_type": "code",
   "execution_count": 16,
   "id": "f74aabc3",
   "metadata": {},
   "outputs": [
    {
     "name": "stdout",
     "output_type": "stream",
     "text": [
      "94.1747572815534\n"
     ]
    }
   ],
   "source": [
    "y_pred=model.predict(X_test)\n",
    "print(accuracy_score(y_test, y_pred)*100)"
   ]
  },
  {
   "cell_type": "markdown",
   "id": "867af680",
   "metadata": {},
   "source": [
    "## With 94% Accuracy, I am able to predict the presence of ASD upon the inspection of someones genes"
   ]
  }
 ],
 "metadata": {
  "kernelspec": {
   "display_name": "Python 3 (ipykernel)",
   "language": "python",
   "name": "python3"
  },
  "language_info": {
   "codemirror_mode": {
    "name": "ipython",
    "version": 3
   },
   "file_extension": ".py",
   "mimetype": "text/x-python",
   "name": "python",
   "nbconvert_exporter": "python",
   "pygments_lexer": "ipython3",
   "version": "3.9.7"
  }
 },
 "nbformat": 4,
 "nbformat_minor": 5
}
